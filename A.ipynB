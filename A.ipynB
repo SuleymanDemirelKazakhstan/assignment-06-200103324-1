{
 "cells": [
  {
   "cell_type": "code",
   "execution_count": 2,
   "metadata": {},
   "outputs": [],
   "source": [
    "import spacy\n",
    "import wikipedia\n",
    "from spacy import displacy\n",
    "\n",
    "nlp = spacy.load(\"en_core_web_sm\")\n",
    "\n",
    "raw_text=\"Polls had predicted Bolsonaro's performance to be lower ahead of the first round, but they were, within the margin of error, accurate in the percentage of votes that Lula da Silva could receive. Now, in this final stage of a deeply polarized contest, some of the research institutes that conduct these polls are drawing attention to the choices being made by women voters.\""
   ]
  },
  {
   "cell_type": "code",
   "execution_count": 3,
   "metadata": {},
   "outputs": [
    {
     "name": "stdout",
     "output_type": "stream",
     "text": [
      "Bolsonaro ORG 20 29\n",
      "first ORDINAL 69 74\n",
      "Lula da Silva PERSON 166 179\n"
     ]
    }
   ],
   "source": [
    "\n",
    "text1= nlp(raw_text)\n",
    "arr = []\n",
    "\n",
    "for word in text1.ents:\n",
    "    print(word.text,word.label_,word.start_char,word.end_char)\n",
    "    if (word.label_ != \"ORDINAL\"):\n",
    "        line = word.text\n",
    "        wiki = wikipedia.page(line).url\n",
    "        tag = \"<a href=\\\"\" + wiki + \"\\\">\" + word.text + \"</a>\"\n",
    "        raw_text = raw_text.replace(word.text, tag)"
   ]
  },
  {
   "cell_type": "code",
   "execution_count": 4,
   "metadata": {},
   "outputs": [
    {
     "name": "stdout",
     "output_type": "stream",
     "text": [
      "Polls had predicted <a href=\"https://en.wikipedia.org/wiki/Jair_Bolsonaro\">Bolsonaro</a>'s performance to be lower ahead of the first round, but they were, within the margin of error, accurate in the percentage of votes that <a href=\"https://en.wikipedia.org/wiki/Luiz_In%C3%A1cio_Lula_da_Silva\">Lula da Silva</a> could receive. Now, in this final stage of a deeply polarized contest, some of the research institutes that conduct these polls are drawing attention to the choices being made by women voters.\n"
     ]
    }
   ],
   "source": [
    "print(raw_text)"
   ]
  }
 ],
 "metadata": {
  "kernelspec": {
   "display_name": "Python 3.10.2 64-bit",
   "language": "python",
   "name": "python3"
  },
  "language_info": {
   "codemirror_mode": {
    "name": "ipython",
    "version": 3
   },
   "file_extension": ".py",
   "mimetype": "text/x-python",
   "name": "python",
   "nbconvert_exporter": "python",
   "pygments_lexer": "ipython3",
   "version": "3.10.2"
  },
  "orig_nbformat": 4,
  "vscode": {
   "interpreter": {
    "hash": "99e63af33600a000c27b10c081bdf61f1ca1d34494ff2b581ff0eff5775ea056"
   }
  }
 },
 "nbformat": 4,
 "nbformat_minor": 2
}
